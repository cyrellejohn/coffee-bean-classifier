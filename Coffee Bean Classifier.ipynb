{
 "cells": [
  {
   "cell_type": "markdown",
   "id": "91baaac4",
   "metadata": {},
   "source": [
    "# Machine Learning LE"
   ]
  },
  {
   "cell_type": "markdown",
   "id": "423eb332",
   "metadata": {},
   "source": [
    "## Importing the Libraries"
   ]
  },
  {
   "cell_type": "code",
   "execution_count": null,
   "id": "1a7e4fa2",
   "metadata": {},
   "outputs": [],
   "source": [
    "import matplotlib.pyplot as plt\n",
    "import numpy as np\n",
    "import pandas as pd"
   ]
  },
  {
   "cell_type": "markdown",
   "id": "371e3b4f",
   "metadata": {},
   "source": [
    "## Importing the Libraries for PyImageJ"
   ]
  },
  {
   "cell_type": "code",
   "execution_count": null,
   "id": "e707ebef",
   "metadata": {},
   "outputs": [],
   "source": [
    "# To install PyImageJ library follow the link below\n",
    "# https://pyimagej.readthedocs.io/en/latest/Install.html"
   ]
  },
  {
   "cell_type": "code",
   "execution_count": null,
   "id": "14321c4d",
   "metadata": {},
   "outputs": [],
   "source": [
    "# Run this cell only once\n",
    "import imagej\n",
    "import scyjava as sj\n",
    "\n",
    "ij = imagej.init('2.9.0', add_legacy = True)"
   ]
  },
  {
   "cell_type": "markdown",
   "id": "09c95959",
   "metadata": {},
   "source": [
    "## Feature Extraction"
   ]
  },
  {
   "cell_type": "code",
   "execution_count": null,
   "id": "26ae63f7",
   "metadata": {
    "scrolled": true
   },
   "outputs": [],
   "source": [
    "%%time\n",
    "\n",
    "from skimage.feature import graycomatrix, graycoprops\n",
    "from skimage.measure import shannon_entropy\n",
    "import os\n",
    "\n",
    "Duplicate = sj.jimport('ij.plugin.Duplicator')\n",
    "Prefs = sj.jimport('ij.Prefs')\n",
    "Prefs.blackBackground = True\n",
    "\n",
    "result = []\n",
    "rootdir = 'Coffee_Image_Dataset'\n",
    "\n",
    "for rootdir, dirs, files in os.walk(rootdir):\n",
    "    for name in files:\n",
    "        if name.endswith(\".jpg\"):\n",
    "            filepath = os.path.join(rootdir, name)\n",
    "            \n",
    "            # Preprocess \n",
    "            img = ij.IJ.openImage(filepath)\n",
    "            ij.IJ.run(img, \"8-bit\", \"\")\n",
    "            dup = Duplicate().run(img)\n",
    "            ij.IJ.run(dup, \"Median...\", \"radius=2\")\n",
    "            \n",
    "            # Thresholding\n",
    "            ij.IJ.setAutoThreshold(dup, \"Huang no-reset\");\n",
    "            ij.IJ.run(dup, \"Convert to Mask\", \"\")\n",
    "            ij.IJ.run(dup, \"Close\", \"\")\n",
    "            \n",
    "            # Analyzing\n",
    "            ij.IJ.run(\"Set Measurements...\", \"area perimeter bounding fit shape redirect=None decimal=6\")\n",
    "            ij.py.run_plugin(plugin = \"Analyze Particles...\",\n",
    "                             args = \"exclude\",\n",
    "                             imp = dup)\n",
    "            \n",
    "            img_py = ij.py.from_java(img)\n",
    "            img_py = img_py.values\n",
    "            imp_py = img_py.astype(np.uint8)\n",
    "            \n",
    "            \n",
    "            # Getting the Textural Features\n",
    "            GLCM = graycomatrix(img_py,\n",
    "                                distances = [1],\n",
    "                                angles = [0, np.pi / 4, np.pi / 2, 3 * np.pi / 4],\n",
    "                                levels = 256,\n",
    "                                symmetric = True)\n",
    "            \n",
    "            \n",
    "            # Append Results to the Dataset\n",
    "            result.append({'Contrast': graycoprops(GLCM, 'contrast')[0][0],\n",
    "                           'Dissimilarity': graycoprops(GLCM, 'dissimilarity')[0][0],\n",
    "                           'Homogeneity': graycoprops(GLCM, 'homogeneity')[0][0],\n",
    "                           'Energy': graycoprops(GLCM, 'energy')[0][0],\n",
    "                           'Correlation': graycoprops(GLCM, 'correlation')[0][0],\n",
    "                           'ASM': graycoprops(GLCM, 'ASM')[0][0],\n",
    "                           'Entropy': shannon_entropy(img_py),\n",
    "                           'Species': os.path.basename(rootdir)})\n",
    "            \n",
    "# Saving the Morphological Features as csv\n",
    "ij.IJ.saveAs(\"Results\", \"Results.csv\") # result save as csv\n",
    "ij.IJ.run(\"Clear Results\")    \n",
    "\n",
    "textural_features = pd.DataFrame.from_records(result)"
   ]
  },
  {
   "cell_type": "markdown",
   "id": "6578af76",
   "metadata": {},
   "source": [
    "## Combining the Dataset"
   ]
  },
  {
   "cell_type": "code",
   "execution_count": null,
   "id": "2b2358aa",
   "metadata": {},
   "outputs": [],
   "source": [
    "def get_morphological_features(df, area, perimeter, width, height, major, minor):\n",
    "    feret_diameter = np.sqrt((4 * df[area]) / np.pi)\n",
    "    rectangular_AR = df[height] / df[width]\n",
    "    eccentricity = df[minor] / df[major]\n",
    "    roundness = (4 * np.pi * df[area]) / (np.power(df[perimeter], 2))\n",
    "    \n",
    "    return df.assign(Feret_Diameter = feret_diameter,\n",
    "                     Rectangular_AR = rectangular_AR,\n",
    "                     Eccentricity = eccentricity,\n",
    "                     Roundness = roundness)"
   ]
  },
  {
   "cell_type": "code",
   "execution_count": null,
   "id": "b886456c",
   "metadata": {
    "scrolled": true
   },
   "outputs": [],
   "source": [
    "morphological_features = pd.read_csv('Results.csv')\n",
    "\n",
    "X = morphological_features.drop(['BX', 'BY', 'Angle', 'Round'], axis = 1)\n",
    "X = get_morphological_features(X, \"Area\", \"Perim.\", \"Width\", \"Height\", \"Major\", \"Minor\")\n",
    "X = pd.concat([X, textural_features], axis = 1)\n",
    "X.to_csv('Results.csv')"
   ]
  },
  {
   "cell_type": "markdown",
   "id": "1fc23f76",
   "metadata": {},
   "source": [
    "## Importing the Dataset"
   ]
  },
  {
   "cell_type": "code",
   "execution_count": 1,
   "id": "691518a3",
   "metadata": {},
   "outputs": [],
   "source": [
    "import matplotlib.pyplot as plt\n",
    "import numpy as np\n",
    "import pandas as pd"
   ]
  },
  {
   "cell_type": "code",
   "execution_count": 2,
   "id": "32bdf85b",
   "metadata": {},
   "outputs": [],
   "source": [
    "dataset = pd.read_csv('Results.csv')\n",
    "\n",
    "X = dataset.iloc[:, :-1]\n",
    "X = X.iloc[:, 2:]\n",
    "y = dataset.iloc[:, -1]"
   ]
  },
  {
   "cell_type": "markdown",
   "id": "80e22f6e",
   "metadata": {},
   "source": [
    "## Encoding Dependent Variable"
   ]
  },
  {
   "cell_type": "code",
   "execution_count": 3,
   "id": "b054fdd9",
   "metadata": {},
   "outputs": [],
   "source": [
    "from sklearn.preprocessing import LabelEncoder\n",
    "le = LabelEncoder()\n",
    "y = le.fit_transform(y)"
   ]
  },
  {
   "cell_type": "markdown",
   "id": "3f83d591",
   "metadata": {},
   "source": [
    "## Training and Testing Set Split"
   ]
  },
  {
   "cell_type": "code",
   "execution_count": 4,
   "id": "16e52de5",
   "metadata": {},
   "outputs": [],
   "source": [
    "from sklearn.model_selection import train_test_split\n",
    "\n",
    "X_train, X_test, y_train, y_test = train_test_split(X, y, test_size = 0.2, random_state = 7)"
   ]
  },
  {
   "cell_type": "markdown",
   "id": "8da7cbe6",
   "metadata": {},
   "source": [
    "## Feature Scaling"
   ]
  },
  {
   "cell_type": "code",
   "execution_count": 5,
   "id": "aad1faeb",
   "metadata": {},
   "outputs": [],
   "source": [
    "from sklearn.preprocessing import StandardScaler\n",
    "sc = StandardScaler()\n",
    "\n",
    "X_train = sc.fit_transform(X_train)\n",
    "X_test = sc.transform(X_test)"
   ]
  },
  {
   "cell_type": "markdown",
   "id": "729516e0",
   "metadata": {},
   "source": [
    "## Hyperparameter Tuning - SVM"
   ]
  },
  {
   "cell_type": "code",
   "execution_count": 6,
   "id": "fa667853",
   "metadata": {
    "scrolled": true
   },
   "outputs": [
    {
     "name": "stdout",
     "output_type": "stream",
     "text": [
      "Fitting 10 folds for each of 24 candidates, totalling 240 fits\n",
      "Best Accuracy: 64.73 %\n",
      "Best Parameters: {'C': 20, 'break_ties': True, 'class_weight': 'balanced', 'coef0': 9, 'gamma': 'scale', 'kernel': 'linear', 'probability': True}\n",
      "CPU times: total: 6.03 s\n",
      "Wall time: 8min 14s\n"
     ]
    }
   ],
   "source": [
    "%%time\n",
    "\n",
    "from sklearn.svm import SVC\n",
    "from sklearn.model_selection import GridSearchCV\n",
    "\n",
    "parameters = {'C': [10, 20, 30],\n",
    "              'gamma': ['scale', 1, 5, 'auto'],\n",
    "              'coef0': [9, 5],\n",
    "              'kernel': ['linear'],\n",
    "              'probability': [True],\n",
    "              'class_weight': ['balanced'],\n",
    "              'break_ties': [True]}\n",
    "\n",
    "model = SVC(cache_size = 1500)\n",
    "\n",
    "grid_search = GridSearchCV(model,\n",
    "                           param_grid = parameters,\n",
    "                           scoring = 'accuracy',\n",
    "                           n_jobs = -1,\n",
    "                           cv = 10,\n",
    "                           verbose = 3)\n",
    "\n",
    "grid_search.fit(X_train, y_train)\n",
    "best_accuracy = grid_search.best_score_\n",
    "best_parameters = grid_search.best_params_\n",
    "print(\"Best Accuracy: {:.2f} %\".format(best_accuracy*100))\n",
    "print(\"Best Parameters:\", best_parameters)"
   ]
  },
  {
   "cell_type": "markdown",
   "id": "44d2c758",
   "metadata": {},
   "source": [
    "## Classification Report - SVM"
   ]
  },
  {
   "cell_type": "code",
   "execution_count": 7,
   "id": "534cf13c",
   "metadata": {},
   "outputs": [
    {
     "name": "stdout",
     "output_type": "stream",
     "text": [
      "              precision    recall  f1-score   support\n",
      "\n",
      "           0       0.70      0.71      0.71       114\n",
      "           1       0.76      0.78      0.77        97\n",
      "           2       0.50      0.48      0.49       100\n",
      "\n",
      "    accuracy                           0.66       311\n",
      "   macro avg       0.65      0.66      0.66       311\n",
      "weighted avg       0.66      0.66      0.66       311\n",
      "\n"
     ]
    }
   ],
   "source": [
    "from sklearn.metrics import classification_report\n",
    "best_model = grid_search\n",
    "\n",
    "y_pred = best_model.predict(X_test)\n",
    "report = classification_report(y_test, y_pred)\n",
    "print(report)"
   ]
  },
  {
   "cell_type": "markdown",
   "id": "59452370",
   "metadata": {},
   "source": [
    "## Hyperparameter Tuning - GaussianNB"
   ]
  },
  {
   "cell_type": "code",
   "execution_count": 8,
   "id": "48d6ec3d",
   "metadata": {},
   "outputs": [
    {
     "name": "stdout",
     "output_type": "stream",
     "text": [
      "Fitting 10 folds for each of 5 candidates, totalling 50 fits\n",
      "Best Accuracy: 43.80 %\n",
      "Best Parameters: {'var_smoothing': 1e-09}\n",
      "CPU times: total: 125 ms\n",
      "Wall time: 215 ms\n"
     ]
    }
   ],
   "source": [
    "%%time\n",
    "\n",
    "from sklearn.naive_bayes import GaussianNB\n",
    "from sklearn.model_selection import GridSearchCV\n",
    "\n",
    "parameters = {'var_smoothing': [0.000000001, 0.1, 1, 3, 5]}\n",
    "model = GaussianNB()\n",
    "\n",
    "grid_search = GridSearchCV(model,\n",
    "                           param_grid = parameters,\n",
    "                           scoring = 'accuracy',\n",
    "                           n_jobs = -1,\n",
    "                           cv = 10,\n",
    "                           verbose = 3)\n",
    "\n",
    "grid_search.fit(X_train, y_train)\n",
    "best_accuracy = grid_search.best_score_\n",
    "best_parameters = grid_search.best_params_\n",
    "print(\"Best Accuracy: {:.2f} %\".format(best_accuracy*100))\n",
    "print(\"Best Parameters:\", best_parameters)"
   ]
  },
  {
   "cell_type": "markdown",
   "id": "aee950d9",
   "metadata": {},
   "source": [
    "## Classification Report - GaussianNB"
   ]
  },
  {
   "cell_type": "code",
   "execution_count": 9,
   "id": "093e9160",
   "metadata": {},
   "outputs": [
    {
     "name": "stdout",
     "output_type": "stream",
     "text": [
      "              precision    recall  f1-score   support\n",
      "\n",
      "           0       0.34      0.10      0.15       114\n",
      "           1       0.45      0.71      0.55        97\n",
      "           2       0.35      0.44      0.39       100\n",
      "\n",
      "    accuracy                           0.40       311\n",
      "   macro avg       0.38      0.42      0.36       311\n",
      "weighted avg       0.38      0.40      0.35       311\n",
      "\n"
     ]
    }
   ],
   "source": [
    "from sklearn.metrics import classification_report\n",
    "best_model = grid_search\n",
    "\n",
    "y_pred = best_model.predict(X_test)\n",
    "report = classification_report(y_test, y_pred)\n",
    "print(report)"
   ]
  },
  {
   "cell_type": "markdown",
   "id": "7354f3de",
   "metadata": {},
   "source": [
    "## Hyperparameter Tuning - KNN"
   ]
  },
  {
   "cell_type": "code",
   "execution_count": 37,
   "id": "88522c8c",
   "metadata": {},
   "outputs": [
    {
     "name": "stdout",
     "output_type": "stream",
     "text": [
      "Fitting 10 folds for each of 576 candidates, totalling 5760 fits\n",
      "Best Accuracy: 39.94 %\n",
      "Best Parameters: {'algorithm': 'auto', 'leaf_size': 1, 'n_neighbors': 10, 'p': 5, 'weights': 'uniform'}\n",
      "CPU times: total: 9.58 s\n",
      "Wall time: 3min 6s\n"
     ]
    }
   ],
   "source": [
    "%%time\n",
    "\n",
    "from sklearn.neighbors import KNeighborsClassifier\n",
    "from sklearn.model_selection import GridSearchCV\n",
    "\n",
    "parameters = {'n_neighbors': [1, 3, 5, 10],\n",
    "              'weights': ['uniform', 'distance', None],\n",
    "              'algorithm': ['auto', 'ball_tree', 'kd_tree', 'brute'],\n",
    "              'leaf_size': [1, 15, 30, 35],\n",
    "              'p': [1, 2, 5]}\n",
    "\n",
    "model = KNeighborsClassifier()\n",
    "grid_search = GridSearchCV(model,\n",
    "                           param_grid = parameters,\n",
    "                           scoring = 'accuracy',\n",
    "                           n_jobs = -1,\n",
    "                           cv = 10,\n",
    "                           verbose = 3)\n",
    "\n",
    "grid_search.fit(X_train, y_train)\n",
    "best_accuracy = grid_search.best_score_\n",
    "best_parameters = grid_search.best_params_\n",
    "print(\"Best Accuracy: {:.2f} %\".format(best_accuracy*100))\n",
    "print(\"Best Parameters:\", best_parameters)"
   ]
  },
  {
   "cell_type": "markdown",
   "id": "c32db49c",
   "metadata": {},
   "source": [
    "## Classification Report - KNN"
   ]
  },
  {
   "cell_type": "code",
   "execution_count": 38,
   "id": "dc5ebd2d",
   "metadata": {},
   "outputs": [
    {
     "name": "stdout",
     "output_type": "stream",
     "text": [
      "              precision    recall  f1-score   support\n",
      "\n",
      "           0       0.42      0.46      0.44       114\n",
      "           1       0.44      0.48      0.46        97\n",
      "           2       0.30      0.25      0.27       100\n",
      "\n",
      "    accuracy                           0.40       311\n",
      "   macro avg       0.39      0.40      0.39       311\n",
      "weighted avg       0.39      0.40      0.39       311\n",
      "\n"
     ]
    }
   ],
   "source": [
    "from sklearn.metrics import classification_report\n",
    "best_model = grid_search\n",
    "\n",
    "y_pred = best_model.predict(X_test)\n",
    "report = classification_report(y_test, y_pred)\n",
    "print(report)"
   ]
  }
 ],
 "metadata": {
  "kernelspec": {
   "display_name": "Python 3 (ipykernel)",
   "language": "python",
   "name": "python3"
  },
  "language_info": {
   "codemirror_mode": {
    "name": "ipython",
    "version": 3
   },
   "file_extension": ".py",
   "mimetype": "text/x-python",
   "name": "python",
   "nbconvert_exporter": "python",
   "pygments_lexer": "ipython3",
   "version": "3.8.15"
  }
 },
 "nbformat": 4,
 "nbformat_minor": 5
}
